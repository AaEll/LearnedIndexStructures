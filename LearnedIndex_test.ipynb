{
 "cells": [
  {
   "cell_type": "code",
   "execution_count": 1,
   "metadata": {},
   "outputs": [
    {
     "name": "stdout",
     "output_type": "stream",
     "text": [
      "Number of variables = 2\n",
      "Number of constraints = 400000\n",
      "Solution:\n",
      "beta =  199814.40138222746\n",
      "t =  232.418458318556\n",
      "Optimal objective value = 232.418458318556\n"
     ]
    }
   ],
   "source": []
  },
  {
   "cell_type": "code",
   "execution_count": null,
   "metadata": {},
   "outputs": [],
   "source": [
    "\n",
    "\n",
    "solver = pywraplp.Solver('LinearExample',pywraplp.Solver.GLOP_LINEAR_PROGRAMMING)\n",
    "y = solver.NumVar(-solver.infinity(), solver.infinity(), 'y')\n",
    "x = solver.NumVar(-solver.infinity(), solver.infinity(), 'x')\n",
    "\n",
    "constraint1 = solver.Constraint(-solver.infinity(), 14)\n",
    "constraint1.SetCoefficient(x, 1)\n",
    "constraint1.SetCoefficient(y, 2)\n",
    "\n",
    "# Constraint 2: 3x - y >= 0.\n",
    "constraint2 = solver.Constraint(0, solver.infinity())\n",
    "constraint2.SetCoefficient(x, 3)\n",
    "constraint2.SetCoefficient(y, -1)\n",
    "\n",
    "# Constraint 3: x - y <= 2.\n",
    "constraint3 = solver.Constraint(-solver.infinity(), 2)\n",
    "constraint3.SetCoefficient(x, 1)\n",
    "constraint3.SetCoefficient(y, -1)\n",
    "\n",
    "objective = solver.Objective()\n",
    "objective.SetCoefficient(x, 3)\n",
    "objective.SetCoefficient(y, 4)\n",
    "objective.SetMaximization()\n",
    "\n",
    "\n",
    "# Solve the system.\n",
    "solver.Solve()\n",
    "opt_solution = 3 * x.solution_value() + 4 * y.solution_value()\n",
    "print('Number of variables =', solver.NumVariables())\n",
    "print('Number of constraints =', solver.NumConstraints())\n",
    "# The value of each variable in the solution.\n",
    "print('Solution:')\n",
    "print('x = ', x.solution_value())\n",
    "print('y = ', y.solution_value())\n",
    "# The objective value of the solution.\n",
    "print('Optimal objective value =', opt_solution)\n",
    "\n"
   ]
  },
  {
   "cell_type": "code",
   "execution_count": 4,
   "metadata": {},
   "outputs": [
    {
     "data": {
      "text/plain": [
       "SVR(C=1.0, cache_size=200, coef0=0.0, degree=7, epsilon=0.1, gamma='auto',\n",
       "  kernel='poly', max_iter=-1, shrinking=True, tol=0.001, verbose=False)"
      ]
     },
     "execution_count": 4,
     "metadata": {},
     "output_type": "execute_result"
    }
   ],
   "source": [
    "import numpy as np\n",
    "from sklearn.svm import SVR\n",
    "from sklearn.isotonic import IsotonicRegression\n",
    "\n",
    "X = np.genfromtxt('C:\\\\Users\\\\aethe\\\\Documents\\\\Spring2018\\\\CS562\\\\LearnedIndexStructures\\\\bucket\\\\out.csv', delimiter=',')\n",
    "n = X.shape[0]\n",
    "Y = np.arange(n)\n",
    "X = X.reshape(n,1)\n",
    "\n",
    "SV_regression = SVR(kernel = 'poly',degree = 7)\n",
    "iso_regression = IsotonicRegression()\n",
    "\n",
    "SV_regression.fit(X,Y)\n",
    "\n",
    "\n"
   ]
  },
  {
   "cell_type": "code",
   "execution_count": 5,
   "metadata": {},
   "outputs": [],
   "source": []
  },
  {
   "cell_type": "code",
   "execution_count": null,
   "metadata": {},
   "outputs": [],
   "source": []
  }
 ],
 "metadata": {
  "kernelspec": {
   "display_name": "Python 3",
   "language": "python",
   "name": "python3"
  },
  "language_info": {
   "codemirror_mode": {
    "name": "ipython",
    "version": 3
   },
   "file_extension": ".py",
   "mimetype": "text/x-python",
   "name": "python",
   "nbconvert_exporter": "python",
   "pygments_lexer": "ipython3",
   "version": "3.6.1"
  }
 },
 "nbformat": 4,
 "nbformat_minor": 2
}
